{
 "cells": [
  {
   "cell_type": "code",
   "execution_count": 5,
   "metadata": {},
   "outputs": [],
   "source": [
    "import cv2\n",
    "import os\n",
    "from tensorflow.python.keras.callbacks import ModelCheckpoint\n",
    "from tensorflow.python.keras.callbacks import CSVLogger\n",
    "from tensorflow.python.keras.callbacks import EarlyStopping\n",
    "from tensorflow.python.keras.optimizers import Adam\n",
    "from models import *\n",
    "from data_generator import *\n",
    "\n",
    "train_frames_dir = './data/train_frames/'\n",
    "train_masks_dir = './data/train_masks/'\n",
    "\n",
    "val_frames_dir = './data/val_frames/'\n",
    "val_masks_dir = './data/val_masks/'\n",
    "\n",
    "INPUT_SHAPE = (256, 256, 3)\n",
    "NO_CLASSES = 20\n",
    "\n",
    "NO_OF_TRAINING_FRAMES = len(os.listdir(train_frames_dir))\n",
    "NO_OF_VAL_FRAMES = len(os.listdir(val_frames_dir))\n",
    "\n",
    "NO_OF_EPOCHS = 10\n",
    "\n",
    "BATCH_SIZE = 4"
   ]
  },
  {
   "cell_type": "code",
   "execution_count": 6,
   "metadata": {},
   "outputs": [],
   "source": [
    "model = segnet(num_classes=20, input_size=INPUT_SHAPE)"
   ]
  },
  {
   "cell_type": "code",
   "execution_count": 7,
   "metadata": {},
   "outputs": [],
   "source": [
    "train_gen = data_gen(img_folder = train_frames_dir,\n",
    "                    mask_folder = train_masks_dir,\n",
    "                    batch_size = BATCH_SIZE,\n",
    "                    num_classes = NO_CLASSES,\n",
    "                    input_shape = INPUT_SHAPE)\n",
    "\n",
    "val_gen = data_gen(img_folder = val_frames_dir,\n",
    "                    mask_folder = val_masks_dir,\n",
    "                    batch_size = BATCH_SIZE,\n",
    "                    num_classes = NO_CLASSES,\n",
    "                    input_shape = INPUT_SHAPE)"
   ]
  },
  {
   "cell_type": "code",
   "execution_count": null,
   "metadata": {},
   "outputs": [
    {
     "name": "stdout",
     "output_type": "stream",
     "text": [
      "Epoch 1/10\n",
      "743/743 [==============================] - 166s 224ms/step - loss: 1.0100 - acc: 0.7378 - val_loss: 0.8739 - val_acc: 0.7531\n",
      "Epoch 2/10\n",
      "743/743 [==============================] - 163s 219ms/step - loss: 0.7129 - acc: 0.7952 - val_loss: 0.7377 - val_acc: 0.7913\n",
      "Epoch 3/10\n",
      "743/743 [==============================] - 163s 220ms/step - loss: 0.6334 - acc: 0.8133 - val_loss: 0.6372 - val_acc: 0.8122\n",
      "Epoch 4/10\n",
      "496/743 [===================>..........] - ETA: 51s - loss: 0.5852 - acc: 0.8253"
     ]
    }
   ],
   "source": [
    "results = model.fit_generator(train_gen, epochs=NO_OF_EPOCHS, \n",
    "                          steps_per_epoch = (NO_OF_TRAINING_FRAMES//BATCH_SIZE),\n",
    "                          validation_data=val_gen, \n",
    "                          validation_steps=(NO_OF_VAL_FRAMES//BATCH_SIZE))"
   ]
  },
  {
   "cell_type": "code",
   "execution_count": null,
   "metadata": {},
   "outputs": [],
   "source": []
  }
 ],
 "metadata": {
  "kernelspec": {
   "display_name": "Python 3",
   "language": "python",
   "name": "python3"
  },
  "language_info": {
   "codemirror_mode": {
    "name": "ipython",
    "version": 3
   },
   "file_extension": ".py",
   "mimetype": "text/x-python",
   "name": "python",
   "nbconvert_exporter": "python",
   "pygments_lexer": "ipython3",
   "version": "3.7.4"
  }
 },
 "nbformat": 4,
 "nbformat_minor": 4
}
