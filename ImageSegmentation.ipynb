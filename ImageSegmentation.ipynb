{
 "cells": [
  {
   "cell_type": "code",
   "execution_count": 1,
   "metadata": {},
   "outputs": [
    {
     "name": "stderr",
     "output_type": "stream",
     "text": "/home/abraham/anaconda3/envs/tf/lib/python3.7/site-packages/tensorflow/python/framework/dtypes.py:516: FutureWarning: Passing (type, 1) or '1type' as a synonym of type is deprecated; in a future version of numpy, it will be understood as (type, (1,)) / '(1,)type'.\n  _np_qint8 = np.dtype([(\"qint8\", np.int8, 1)])\n/home/abraham/anaconda3/envs/tf/lib/python3.7/site-packages/tensorflow/python/framework/dtypes.py:517: FutureWarning: Passing (type, 1) or '1type' as a synonym of type is deprecated; in a future version of numpy, it will be understood as (type, (1,)) / '(1,)type'.\n  _np_quint8 = np.dtype([(\"quint8\", np.uint8, 1)])\n/home/abraham/anaconda3/envs/tf/lib/python3.7/site-packages/tensorflow/python/framework/dtypes.py:518: FutureWarning: Passing (type, 1) or '1type' as a synonym of type is deprecated; in a future version of numpy, it will be understood as (type, (1,)) / '(1,)type'.\n  _np_qint16 = np.dtype([(\"qint16\", np.int16, 1)])\n/home/abraham/anaconda3/envs/tf/lib/python3.7/site-packages/tensorflow/python/framework/dtypes.py:519: FutureWarning: Passing (type, 1) or '1type' as a synonym of type is deprecated; in a future version of numpy, it will be understood as (type, (1,)) / '(1,)type'.\n  _np_quint16 = np.dtype([(\"quint16\", np.uint16, 1)])\n/home/abraham/anaconda3/envs/tf/lib/python3.7/site-packages/tensorflow/python/framework/dtypes.py:520: FutureWarning: Passing (type, 1) or '1type' as a synonym of type is deprecated; in a future version of numpy, it will be understood as (type, (1,)) / '(1,)type'.\n  _np_qint32 = np.dtype([(\"qint32\", np.int32, 1)])\n/home/abraham/anaconda3/envs/tf/lib/python3.7/site-packages/tensorflow/python/framework/dtypes.py:525: FutureWarning: Passing (type, 1) or '1type' as a synonym of type is deprecated; in a future version of numpy, it will be understood as (type, (1,)) / '(1,)type'.\n  np_resource = np.dtype([(\"resource\", np.ubyte, 1)])\n/home/abraham/anaconda3/envs/tf/lib/python3.7/site-packages/tensorboard/compat/tensorflow_stub/dtypes.py:541: FutureWarning: Passing (type, 1) or '1type' as a synonym of type is deprecated; in a future version of numpy, it will be understood as (type, (1,)) / '(1,)type'.\n  _np_qint8 = np.dtype([(\"qint8\", np.int8, 1)])\n/home/abraham/anaconda3/envs/tf/lib/python3.7/site-packages/tensorboard/compat/tensorflow_stub/dtypes.py:542: FutureWarning: Passing (type, 1) or '1type' as a synonym of type is deprecated; in a future version of numpy, it will be understood as (type, (1,)) / '(1,)type'.\n  _np_quint8 = np.dtype([(\"quint8\", np.uint8, 1)])\n/home/abraham/anaconda3/envs/tf/lib/python3.7/site-packages/tensorboard/compat/tensorflow_stub/dtypes.py:543: FutureWarning: Passing (type, 1) or '1type' as a synonym of type is deprecated; in a future version of numpy, it will be understood as (type, (1,)) / '(1,)type'.\n  _np_qint16 = np.dtype([(\"qint16\", np.int16, 1)])\n/home/abraham/anaconda3/envs/tf/lib/python3.7/site-packages/tensorboard/compat/tensorflow_stub/dtypes.py:544: FutureWarning: Passing (type, 1) or '1type' as a synonym of type is deprecated; in a future version of numpy, it will be understood as (type, (1,)) / '(1,)type'.\n  _np_quint16 = np.dtype([(\"quint16\", np.uint16, 1)])\n/home/abraham/anaconda3/envs/tf/lib/python3.7/site-packages/tensorboard/compat/tensorflow_stub/dtypes.py:545: FutureWarning: Passing (type, 1) or '1type' as a synonym of type is deprecated; in a future version of numpy, it will be understood as (type, (1,)) / '(1,)type'.\n  _np_qint32 = np.dtype([(\"qint32\", np.int32, 1)])\n/home/abraham/anaconda3/envs/tf/lib/python3.7/site-packages/tensorboard/compat/tensorflow_stub/dtypes.py:550: FutureWarning: Passing (type, 1) or '1type' as a synonym of type is deprecated; in a future version of numpy, it will be understood as (type, (1,)) / '(1,)type'.\n  np_resource = np.dtype([(\"resource\", np.ubyte, 1)])\n"
    }
   ],
   "source": [
    "import cv2\n",
    "import os\n",
    "from tensorflow.python.keras.callbacks import ModelCheckpoint\n",
    "from tensorflow.python.keras.callbacks import CSVLogger\n",
    "from tensorflow.python.keras.callbacks import EarlyStopping\n",
    "from tensorflow.python.keras.optimizers import Adam\n",
    "from models import *\n",
    "from data_generator import *\n",
    "\n",
    "train_frames_dir = './data/train_frames/'\n",
    "train_masks_dir = './data/train_masks/'\n",
    "\n",
    "val_frames_dir = './data/val_frames/'\n",
    "val_masks_dir = './data/val_masks/'\n",
    "\n",
    "INPUT_SHAPE = (256, 256, 3)\n",
    "NO_CLASSES = 20\n",
    "\n",
    "NO_OF_TRAINING_FRAMES = len(os.listdir(train_frames_dir))\n",
    "NO_OF_VAL_FRAMES = len(os.listdir(val_frames_dir))\n",
    "\n",
    "NO_OF_EPOCHS = 10\n",
    "\n",
    "BATCH_SIZE = 4\n",
    "\n",
    "color_mapping = {\n",
    "    0 : (128, 0,128),\n",
    "    1 : (244, 35,232),\n",
    "    2 : ( 70, 70, 70),\n",
    "    3 : (102,102,156),\n",
    "    4 : (190,153,153),\n",
    "    5 : (153,153,153),\n",
    "    6 : (250,170, 30),\n",
    "    7 : (220,220,  0),\n",
    "    8 : (107,142, 35),\n",
    "    9 : (152,251,152),\n",
    "    10 : ( 70,130,180),\n",
    "    11 : (220, 20, 60),\n",
    "    12 : (255,  0,  0),\n",
    "    13 : (  0,  0,142),\n",
    "    14 : (  0,  0, 70),\n",
    "    15 : (  0, 60,100),\n",
    "    16 : (  0, 80,100),\n",
    "    17 : (  0,  0,230),\n",
    "    18 : (119, 11, 32),\n",
    "    19 : (180,165,180)\n",
    "}"
   ]
  },
  {
   "cell_type": "code",
   "execution_count": 2,
   "metadata": {},
   "outputs": [
    {
     "name": "stdout",
     "output_type": "stream",
     "text": "WARNING:tensorflow:From /home/abraham/anaconda3/envs/tf/lib/python3.7/site-packages/tensorflow/python/ops/init_ops.py:1251: calling VarianceScaling.__init__ (from tensorflow.python.ops.init_ops) with dtype is deprecated and will be removed in a future version.\nInstructions for updating:\nCall initializer instance with the dtype argument instead of passing it to the constructor\n"
    }
   ],
   "source": [
    "model = resnet50_encoder_unet_decoder(num_classes=NO_CLASSES, input_size=INPUT_SHAPE)"
   ]
  },
  {
   "cell_type": "code",
   "execution_count": 3,
   "metadata": {},
   "outputs": [],
   "source": [
    "train_gen = data_gen(img_folder = train_frames_dir,\n",
    "                    mask_folder = train_masks_dir,\n",
    "                    batch_size = BATCH_SIZE,\n",
    "                    num_classes = NO_CLASSES,\n",
    "                    input_shape = INPUT_SHAPE)\n",
    "\n",
    "val_gen = data_gen(img_folder = val_frames_dir,\n",
    "                    mask_folder = val_masks_dir,\n",
    "                    batch_size = BATCH_SIZE,\n",
    "                    num_classes = NO_CLASSES,\n",
    "                    input_shape = INPUT_SHAPE)"
   ]
  },
  {
   "cell_type": "code",
   "execution_count": 4,
   "metadata": {},
   "outputs": [
    {
     "name": "stdout",
     "output_type": "stream",
     "text": "Epoch 1/10\nWARNING:tensorflow:From /home/abraham/anaconda3/envs/tf/lib/python3.7/site-packages/tensorflow/python/ops/math_grad.py:1250: add_dispatch_support.<locals>.wrapper (from tensorflow.python.ops.array_ops) is deprecated and will be removed in a future version.\nInstructions for updating:\nUse tf.where in 2.0, which has the same broadcast rule as np.where\n743/743 [==============================] - 383s 515ms/step - loss: 0.7538 - acc: 0.7818 - iou_coef: 0.5455 - val_loss: 1.1653 - val_acc: 0.6392 - val_iou_coef: 0.3746\nEpoch 2/10\n743/743 [==============================] - 359s 483ms/step - loss: 0.4901 - acc: 0.8530 - iou_coef: 0.6624 - val_loss: 0.5228 - val_acc: 0.8415 - val_iou_coef: 0.6572\nEpoch 3/10\n743/743 [==============================] - 367s 494ms/step - loss: 0.4117 - acc: 0.8715 - iou_coef: 0.6997 - val_loss: 0.4724 - val_acc: 0.8574 - val_iou_coef: 0.6958\nEpoch 4/10\n743/743 [==============================] - 374s 503ms/step - loss: 0.3622 - acc: 0.8859 - iou_coef: 0.7270 - val_loss: 0.4648 - val_acc: 0.8584 - val_iou_coef: 0.6892\nEpoch 5/10\n743/743 [==============================] - 377s 507ms/step - loss: 0.3285 - acc: 0.8956 - iou_coef: 0.7469 - val_loss: 0.4703 - val_acc: 0.8615 - val_iou_coef: 0.6994\nEpoch 6/10\n743/743 [==============================] - 380s 511ms/step - loss: 0.3033 - acc: 0.9032 - iou_coef: 0.7618 - val_loss: 0.4789 - val_acc: 0.8646 - val_iou_coef: 0.7125\nEpoch 7/10\n743/743 [==============================] - 382s 514ms/step - loss: 0.2847 - acc: 0.9089 - iou_coef: 0.7735 - val_loss: 0.4803 - val_acc: 0.8665 - val_iou_coef: 0.7211\nEpoch 8/10\n743/743 [==============================] - 382s 514ms/step - loss: 0.2718 - acc: 0.9130 - iou_coef: 0.7817 - val_loss: 0.4801 - val_acc: 0.8677 - val_iou_coef: 0.7191\nEpoch 9/10\n743/743 [==============================] - 383s 515ms/step - loss: 0.2588 - acc: 0.9170 - iou_coef: 0.7901 - val_loss: 0.5102 - val_acc: 0.8651 - val_iou_coef: 0.7203\nEpoch 10/10\n743/743 [==============================] - 386s 520ms/step - loss: 0.2482 - acc: 0.9205 - iou_coef: 0.7971 - val_loss: 0.5157 - val_acc: 0.8671 - val_iou_coef: 0.7254\n"
    }
   ],
   "source": [
    "results = model.fit_generator(train_gen, epochs=NO_OF_EPOCHS, \n",
    "                          steps_per_epoch = (NO_OF_TRAINING_FRAMES//BATCH_SIZE),\n",
    "                          validation_data=val_gen, \n",
    "                          validation_steps=(NO_OF_VAL_FRAMES//BATCH_SIZE))"
   ]
  },
  {
   "cell_type": "code",
   "execution_count": 5,
   "metadata": {},
   "outputs": [],
   "source": [
    "model.save('trainedModels/main_model.h5')"
   ]
  },
  {
   "cell_type": "code",
   "metadata": {},
   "outputs": [],
   "source": [
    "val_frames = os.listdir(val_frames_dir)\n",
    "train_img = cv2.imread(val_frames_dir+'/'+val_frames[1])/255"
   ]
  },
  {
   "cell_type": "code",
   "execution_count": null,
   "metadata": {},
   "outputs": [],
   "source": [
    "prediction = model.predict(np.expand_dims(train_img, axis=0))"
   ]
  }
 ],
 "metadata": {
  "kernelspec": {
   "display_name": "Python 3",
   "language": "python",
   "name": "python3"
  },
  "language_info": {
   "codemirror_mode": {
    "name": "ipython",
    "version": 3
   },
   "file_extension": ".py",
   "mimetype": "text/x-python",
   "name": "python",
   "nbconvert_exporter": "python",
   "pygments_lexer": "ipython3",
   "version": "3.7.4"
  }
 },
 "nbformat": 4,
 "nbformat_minor": 4
}